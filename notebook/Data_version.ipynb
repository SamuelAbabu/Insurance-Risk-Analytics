{
 "cells": [
  {
   "cell_type": "markdown",
   "id": "f1508d8d",
   "metadata": {},
   "source": [
    " Install DVC "
   ]
  },
  {
   "cell_type": "code",
   "execution_count": 1,
   "id": "8f6890d0",
   "metadata": {},
   "outputs": [
    {
     "name": "stdout",
     "output_type": "stream",
     "text": [
      "✅ DVC installed successfully.\n"
     ]
    }
   ],
   "source": [
    "import subprocess\n",
    "\n",
    "def install_dvc():\n",
    "    try:\n",
    "        subprocess.run([\"pip\", \"install\", \"dvc\"], check=True)\n",
    "        print(\"✅ DVC installed successfully.\")\n",
    "    except subprocess.CalledProcessError:\n",
    "        print(\"❌ Failed to install DVC. Check your network or pip config.\")\n",
    "\n",
    "# Execute installation\n",
    "install_dvc()\n"
   ]
  },
  {
   "cell_type": "markdown",
   "id": "add12249",
   "metadata": {},
   "source": [
    "Configure Local Remote Storage"
   ]
  },
  {
   "cell_type": "code",
   "execution_count": 4,
   "id": "d2cf801e",
   "metadata": {},
   "outputs": [
    {
     "name": "stdout",
     "output_type": "stream",
     "text": [
      "✅ Local remote storage configured at: dvc_local_storage\n"
     ]
    }
   ],
   "source": [
    "import os\n",
    "import subprocess\n",
    "\n",
    "def configure_local_remote(remote_path=\"dvc_local_storage\"):\n",
    "    os.makedirs(remote_path, exist_ok=True)\n",
    "    subprocess.run([\"dvc\", \"remote\", \"add\", \"-d\", \"localstorage\", remote_path], check=True)\n",
    "    print(f\"✅ Local remote storage configured at: {remote_path}\")\n",
    "\n",
    "# Run the step\n",
    "configure_local_remote()\n"
   ]
  },
  {
   "cell_type": "markdown",
   "id": "2dce89d4",
   "metadata": {},
   "source": [
    "Track Dataset with DVC"
   ]
  },
  {
   "cell_type": "code",
   "execution_count": 25,
   "id": "9aa2c205",
   "metadata": {},
   "outputs": [
    {
     "name": "stdout",
     "output_type": "stream",
     "text": [
      "📁 File already exists at: data\\Data_insurance.txt\n",
      "✅ DVC successfully tracked: data\\Data_insurance.txt\n"
     ]
    }
   ],
   "source": [
    "import os\n",
    "import shutil\n",
    "import subprocess\n",
    "\n",
    "def move_and_track():\n",
    "    # Define source and destination paths\n",
    "    src = r\"..\\Data\\Data_insurance.txt\"\n",
    "    dst_folder = \"data\"\n",
    "    dst = os.path.join(dst_folder, \"Data_insurance.txt\")\n",
    "\n",
    "    # Create data folder if it doesn't exist\n",
    "    os.makedirs(dst_folder, exist_ok=True)\n",
    "\n",
    "    # Move the file if it hasn’t been moved already\n",
    "    if not os.path.exists(dst):\n",
    "        shutil.copy(src, dst)\n",
    "        print(f\"✅ File copied to: {dst}\")\n",
    "    else:\n",
    "        print(f\"📁 File already exists at: {dst}\")\n",
    "\n",
    "    # Now track the file with DVC\n",
    "    try:\n",
    "        subprocess.run([\"dvc\", \"add\", dst], check=True)\n",
    "        print(f\"✅ DVC successfully tracked: {dst}\")\n",
    "    except subprocess.CalledProcessError as error:\n",
    "        print(\"❌ DVC failed to track the dataset.\")\n",
    "        print(\"🔍 Error details:\", error)\n",
    "\n",
    "move_and_track()\n"
   ]
  }
 ],
 "metadata": {
  "kernelspec": {
   "display_name": "Python 3",
   "language": "python",
   "name": "python3"
  },
  "language_info": {
   "codemirror_mode": {
    "name": "ipython",
    "version": 3
   },
   "file_extension": ".py",
   "mimetype": "text/x-python",
   "name": "python",
   "nbconvert_exporter": "python",
   "pygments_lexer": "ipython3",
   "version": "3.12.5"
  }
 },
 "nbformat": 4,
 "nbformat_minor": 5
}
