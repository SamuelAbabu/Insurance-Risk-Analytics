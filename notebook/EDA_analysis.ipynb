{
 "cells": [
  {
   "cell_type": "markdown",
   "id": "1d6f6b1e",
   "metadata": {},
   "source": [
    "Data Summarization"
   ]
  },
  {
   "cell_type": "markdown",
   "id": "7c5bc853",
   "metadata": {},
   "source": [
    "Load and Preview the Data"
   ]
  },
  {
   "cell_type": "code",
   "execution_count": null,
   "id": "83648b00",
   "metadata": {},
   "outputs": [],
   "source": [
    "import pandas as pd\n",
    "# Load the dataset\n",
    "df = pd.read_csv(r\"C:\\10 Kifia Tasks\\Week-3\\Insurance-Risk-Analytics\\Data\\Data_insurance.txt\", delimiter='|')\n",
    "df = df.sample(n=2000, random_state=42)\n",
    "\n",
    "# Preview structure\n",
    "df.head()\n",
    "df.shape\n"
   ]
  },
  {
   "cell_type": "markdown",
   "id": "f5791c53",
   "metadata": {},
   "source": [
    "Data Structure Overview"
   ]
  },
  {
   "cell_type": "code",
   "execution_count": 4,
   "id": "a3e51570",
   "metadata": {},
   "outputs": [
    {
     "name": "stdout",
     "output_type": "stream",
     "text": [
      "<class 'pandas.core.frame.DataFrame'>\n",
      "Index: 2000 entries, 57024 to 889637\n",
      "Data columns (total 52 columns):\n",
      " #   Column                    Non-Null Count  Dtype  \n",
      "---  ------                    --------------  -----  \n",
      " 0   UnderwrittenCoverID       2000 non-null   int64  \n",
      " 1   PolicyID                  2000 non-null   int64  \n",
      " 2   TransactionMonth          2000 non-null   object \n",
      " 3   IsVATRegistered           2000 non-null   bool   \n",
      " 4   Citizenship               2000 non-null   object \n",
      " 5   LegalType                 2000 non-null   object \n",
      " 6   Title                     2000 non-null   object \n",
      " 7   Language                  2000 non-null   object \n",
      " 8   Bank                      1696 non-null   object \n",
      " 9   AccountType               1914 non-null   object \n",
      " 10  MaritalStatus             1986 non-null   object \n",
      " 11  Gender                    1985 non-null   object \n",
      " 12  Country                   2000 non-null   object \n",
      " 13  Province                  2000 non-null   object \n",
      " 14  PostalCode                2000 non-null   int64  \n",
      " 15  MainCrestaZone            2000 non-null   object \n",
      " 16  SubCrestaZone             2000 non-null   object \n",
      " 17  ItemType                  2000 non-null   object \n",
      " 18  mmcode                    2000 non-null   float64\n",
      " 19  VehicleType               2000 non-null   object \n",
      " 20  RegistrationYear          2000 non-null   int64  \n",
      " 21  make                      2000 non-null   object \n",
      " 22  Model                     2000 non-null   object \n",
      " 23  Cylinders                 2000 non-null   float64\n",
      " 24  cubiccapacity             2000 non-null   float64\n",
      " 25  kilowatts                 2000 non-null   float64\n",
      " 26  bodytype                  2000 non-null   object \n",
      " 27  NumberOfDoors             2000 non-null   float64\n",
      " 28  VehicleIntroDate          2000 non-null   object \n",
      " 29  CustomValueEstimate       438 non-null    float64\n",
      " 30  AlarmImmobiliser          2000 non-null   object \n",
      " 31  TrackingDevice            2000 non-null   object \n",
      " 32  CapitalOutstanding        2000 non-null   object \n",
      " 33  NewVehicle                1713 non-null   object \n",
      " 34  WrittenOff                669 non-null    object \n",
      " 35  Rebuilt                   669 non-null    object \n",
      " 36  Converted                 669 non-null    object \n",
      " 37  CrossBorder               2 non-null      object \n",
      " 38  NumberOfVehiclesInFleet   0 non-null      float64\n",
      " 39  SumInsured                2000 non-null   float64\n",
      " 40  TermFrequency             2000 non-null   object \n",
      " 41  CalculatedPremiumPerTerm  2000 non-null   float64\n",
      " 42  ExcessSelected            2000 non-null   object \n",
      " 43  CoverCategory             2000 non-null   object \n",
      " 44  CoverType                 2000 non-null   object \n",
      " 45  CoverGroup                2000 non-null   object \n",
      " 46  Section                   2000 non-null   object \n",
      " 47  Product                   2000 non-null   object \n",
      " 48  StatutoryClass            2000 non-null   object \n",
      " 49  StatutoryRiskType         2000 non-null   object \n",
      " 50  TotalPremium              2000 non-null   float64\n",
      " 51  TotalClaims               2000 non-null   float64\n",
      "dtypes: bool(1), float64(11), int64(4), object(36)\n",
      "memory usage: 814.5+ KB\n",
      "Citizenship: ['  ' 'ZA']\n",
      "LegalType: ['Individual' 'Private company' 'Public company' 'Close Corporation']\n",
      "Title: ['Mr' 'Mrs' 'Ms' 'Miss' 'Dr']\n",
      "Language: ['English']\n",
      "Bank: ['ABSA Bank' 'First National Bank' 'Standard Bank' nan 'Nedbank']\n",
      "AccountType: ['Current account' nan 'Savings account' 'Transmission account']\n",
      "MaritalStatus: ['Not specified' nan 'Married' 'Single']\n",
      "Gender: ['Not specified' 'Male' 'Female' nan]\n",
      "Country: ['South Africa']\n",
      "Province: ['Gauteng' 'Limpopo' 'Western Cape' 'North West' 'Free State']\n",
      "MainCrestaZone: ['Transvaal (all except Pretoria)' 'Johannesburg' 'Rand East'\n",
      " 'Karoo 1 (Northeast of Cape Town)' 'Oranje Free State']\n",
      "SubCrestaZone: ['Transvaal South' 'Johannesburg' 'Rand East' 'Transvaal North'\n",
      " 'Northeast of CT']\n",
      "ItemType: ['Mobility - Motor']\n",
      "VehicleType: ['Passenger Vehicle' 'Medium Commercial' 'Heavy Commercial'\n",
      " 'Light Commercial' 'Bus']\n",
      "make: ['NISSAN/DATSUN                      ' 'TOYOTA' 'MERCEDES-BENZ' 'FOTON'\n",
      " 'TOYOTA                             ']\n",
      "Model: ['NV350 2.5 16 SEAT IMPENDULO' 'QUANTUM 2.7 SESFIKILE 15s'\n",
      " 'QUANTUM 2.5 D-4D SESFIKILE 16s' 'SPRINTER 416 CDI HI-ROOF F/C P/V'\n",
      " 'QUANTUM 2.5 D-4D 14 SEAT']\n",
      "bodytype: ['B/S' 'P/V' 'S/D' 'MPV' 'C/C']\n",
      "VehicleIntroDate: ['2014-02-01 12:00:00 AM' '10/2010' '4/2012' '5/2004' '3/2005']\n",
      "AlarmImmobiliser: ['Yes']\n",
      "TrackingDevice: ['Yes' 'No']\n",
      "CapitalOutstanding: [0.0 239600.0 '0' 195000.0 '49000']\n",
      "NewVehicle: ['More than 6 months' nan 'Less than 6 months']\n",
      "WrittenOff: ['No' nan]\n",
      "Rebuilt: ['No' nan]\n",
      "Converted: ['No' nan]\n",
      "CrossBorder: [nan 'No']\n",
      "TermFrequency: ['Monthly' 'Annual']\n",
      "ExcessSelected: ['No excess' 'Mobility - Windscreen'\n",
      " 'Mobility - Taxi with value more than R100 000 - R5 000'\n",
      " 'Mobility - Taxi with value less than R100 000 - R3 000'\n",
      " 'Mobility - Windscreen (Feb2015)']\n",
      "CoverCategory: ['Emergency Charges' 'Cleaning and Removal of Accident Debris'\n",
      " 'Keys and Alarms' 'Windscreen' 'Passenger Liability']\n",
      "CoverType: ['Emergency Charges' 'Cleaning and Removal of Accident Debris'\n",
      " 'Keys and Alarms' 'Windscreen' 'Passenger Liability']\n",
      "CoverGroup: ['Comprehensive - Taxi' 'Credit Protection' 'Accidental Death'\n",
      " 'Basic Excess Waiver' 'Income Protector']\n",
      "Section: ['Motor Comprehensive' 'Credit Protection' 'Optional Extended Covers'\n",
      " 'Third party or third party, fire and theft only'\n",
      " 'Standalone passenger liability']\n",
      "Product: ['Mobility Commercial Cover: Monthly' 'Mobility Metered Taxis: Monthly'\n",
      " 'Bridge Taxi Finance: Monthly' 'Standalone Passenger Liability']\n",
      "StatutoryClass: ['Commercial']\n",
      "StatutoryRiskType: ['IFRS Constant']\n"
     ]
    }
   ],
   "source": [
    "# General info\n",
    "df.info()\n",
    "\n",
    "# Column-wise data types\n",
    "df.dtypes.value_counts()\n",
    "\n",
    "# Check for datetime fields\n",
    "if 'TransactionMonth' in df.columns:\n",
    "    df['TransactionMonth'] = pd.to_datetime(df['TransactionMonth'], errors='coerce')\n",
    "\n",
    "# Detect mixed-type columns\n",
    "object_cols = df.select_dtypes(include='object')\n",
    "for col in object_cols.columns:\n",
    "    print(f\"{col}:\", df[col].unique()[:5])  # Show sample categories\n"
   ]
  },
  {
   "cell_type": "markdown",
   "id": "0ee0765d",
   "metadata": {},
   "source": [
    "Descriptive Statistics for Numerical Features"
   ]
  },
  {
   "cell_type": "code",
   "execution_count": 5,
   "id": "1edc41e4",
   "metadata": {},
   "outputs": [
    {
     "data": {
      "text/html": [
       "<div>\n",
       "<style scoped>\n",
       "    .dataframe tbody tr th:only-of-type {\n",
       "        vertical-align: middle;\n",
       "    }\n",
       "\n",
       "    .dataframe tbody tr th {\n",
       "        vertical-align: top;\n",
       "    }\n",
       "\n",
       "    .dataframe thead th {\n",
       "        text-align: right;\n",
       "    }\n",
       "</style>\n",
       "<table border=\"1\" class=\"dataframe\">\n",
       "  <thead>\n",
       "    <tr style=\"text-align: right;\">\n",
       "      <th></th>\n",
       "      <th>count</th>\n",
       "      <th>mean</th>\n",
       "      <th>std</th>\n",
       "      <th>min</th>\n",
       "      <th>25%</th>\n",
       "      <th>50%</th>\n",
       "      <th>75%</th>\n",
       "      <th>max</th>\n",
       "      <th>CoV</th>\n",
       "    </tr>\n",
       "  </thead>\n",
       "  <tbody>\n",
       "    <tr>\n",
       "      <th>TotalPremium</th>\n",
       "      <td>2000.0</td>\n",
       "      <td>58.465442</td>\n",
       "      <td>146.777852</td>\n",
       "      <td>0.0000</td>\n",
       "      <td>0.000000</td>\n",
       "      <td>2.039781</td>\n",
       "      <td>21.929825</td>\n",
       "      <td>1046.989123</td>\n",
       "      <td>2.51</td>\n",
       "    </tr>\n",
       "    <tr>\n",
       "      <th>TotalClaims</th>\n",
       "      <td>2000.0</td>\n",
       "      <td>173.568855</td>\n",
       "      <td>6277.091157</td>\n",
       "      <td>0.0000</td>\n",
       "      <td>0.000000</td>\n",
       "      <td>0.000000</td>\n",
       "      <td>0.000000</td>\n",
       "      <td>276248.859649</td>\n",
       "      <td>36.16</td>\n",
       "    </tr>\n",
       "    <tr>\n",
       "      <th>CustomValueEstimate</th>\n",
       "      <td>438.0</td>\n",
       "      <td>207730.011416</td>\n",
       "      <td>102502.263843</td>\n",
       "      <td>23100.0000</td>\n",
       "      <td>116300.000000</td>\n",
       "      <td>216350.000000</td>\n",
       "      <td>280000.000000</td>\n",
       "      <td>654000.000000</td>\n",
       "      <td>0.49</td>\n",
       "    </tr>\n",
       "    <tr>\n",
       "      <th>CalculatedPremiumPerTerm</th>\n",
       "      <td>2000.0</td>\n",
       "      <td>112.944281</td>\n",
       "      <td>208.489163</td>\n",
       "      <td>0.0002</td>\n",
       "      <td>3.257825</td>\n",
       "      <td>8.175150</td>\n",
       "      <td>90.000000</td>\n",
       "      <td>1193.567600</td>\n",
       "      <td>1.85</td>\n",
       "    </tr>\n",
       "  </tbody>\n",
       "</table>\n",
       "</div>"
      ],
      "text/plain": [
       "                           count           mean            std         min  \\\n",
       "TotalPremium              2000.0      58.465442     146.777852      0.0000   \n",
       "TotalClaims               2000.0     173.568855    6277.091157      0.0000   \n",
       "CustomValueEstimate        438.0  207730.011416  102502.263843  23100.0000   \n",
       "CalculatedPremiumPerTerm  2000.0     112.944281     208.489163      0.0002   \n",
       "\n",
       "                                    25%            50%            75%  \\\n",
       "TotalPremium                   0.000000       2.039781      21.929825   \n",
       "TotalClaims                    0.000000       0.000000       0.000000   \n",
       "CustomValueEstimate       116300.000000  216350.000000  280000.000000   \n",
       "CalculatedPremiumPerTerm       3.257825       8.175150      90.000000   \n",
       "\n",
       "                                    max    CoV  \n",
       "TotalPremium                1046.989123   2.51  \n",
       "TotalClaims               276248.859649  36.16  \n",
       "CustomValueEstimate       654000.000000   0.49  \n",
       "CalculatedPremiumPerTerm    1193.567600   1.85  "
      ]
     },
     "execution_count": 5,
     "metadata": {},
     "output_type": "execute_result"
    }
   ],
   "source": [
    "# Select key numeric columns\n",
    "numeric_cols = ['TotalPremium', 'TotalClaims', 'CustomValueEstimate', 'CalculatedPremiumPerTerm']\n",
    "numeric_df = df[numeric_cols]\n",
    "\n",
    "# Summary stats\n",
    "summary_stats = numeric_df.describe().T\n",
    "\n",
    "# Add coefficient of variation\n",
    "summary_stats['CoV'] = (numeric_df.std() / numeric_df.mean()).round(2)\n",
    "\n",
    "summary_stats\n"
   ]
  },
  {
   "cell_type": "markdown",
   "id": "77d69989",
   "metadata": {},
   "source": [
    "Missing Value Check"
   ]
  },
  {
   "cell_type": "code",
   "execution_count": 6,
   "id": "2856c3d8",
   "metadata": {},
   "outputs": [
    {
     "data": {
      "text/plain": [
       "NumberOfVehiclesInFleet    1.0000\n",
       "CrossBorder                0.9990\n",
       "CustomValueEstimate        0.7810\n",
       "Rebuilt                    0.6655\n",
       "Converted                  0.6655\n",
       "WrittenOff                 0.6655\n",
       "Bank                       0.1520\n",
       "NewVehicle                 0.1435\n",
       "AccountType                0.0430\n",
       "Gender                     0.0075\n",
       "dtype: float64"
      ]
     },
     "execution_count": 6,
     "metadata": {},
     "output_type": "execute_result"
    }
   ],
   "source": [
    "missing_data = df.isnull().sum()\n",
    "missing_ratio = (missing_data / len(df)).sort_values(ascending=False)\n",
    "\n",
    "# Show top 10 missing columns\n",
    "missing_ratio.head(10)\n"
   ]
  },
  {
   "cell_type": "markdown",
   "id": "b72a33dd",
   "metadata": {},
   "source": [
    "Univariate Analysis"
   ]
  },
  {
   "cell_type": "markdown",
   "id": "ee067dd3",
   "metadata": {},
   "source": [
    "Plot Histograms for Numerical Variables"
   ]
  },
  {
   "cell_type": "code",
   "execution_count": 7,
   "id": "9a39a5b1",
   "metadata": {},
   "outputs": [],
   "source": [
    "import matplotlib.pyplot as plt\n",
    "import seaborn as sns\n",
    "import os\n",
    "\n",
    "# Ensure plots folder exists\n",
    "os.makedirs(\"plots\", exist_ok=True)\n",
    "\n",
    "numeric_cols = ['TotalPremium', 'TotalClaims', 'CustomValueEstimate', 'CalculatedPremiumPerTerm']\n",
    "\n",
    "for col in numeric_cols:\n",
    "    plt.figure(figsize=(7, 4))\n",
    "    sns.histplot(data=df, x=col, bins=30, kde=True, color='steelblue')\n",
    "    plt.title(f'Distribution of {col}')\n",
    "    plt.xlabel(col)\n",
    "    plt.ylabel('Frequency')\n",
    "    plt.tight_layout()\n",
    "    plt.savefig(f\"plots/hist_{col.lower()}.png\", dpi=300)\n",
    "    plt.close()\n"
   ]
  },
  {
   "cell_type": "markdown",
   "id": "64cfd1fb",
   "metadata": {},
   "source": [
    "Bar Charts for Categorical Variables"
   ]
  },
  {
   "cell_type": "code",
   "execution_count": null,
   "id": "f4d2e3a5",
   "metadata": {},
   "outputs": [],
   "source": [
    "categorical_cols = ['Province', 'VehicleType', 'Gender']\n",
    "\n",
    "for col in categorical_cols:\n",
    "    plt.figure(figsize=(8, 4))\n",
    "    order = df[col].value_counts().index\n",
    "    sns.countplot(data=df, x=col, order=order, palette='viridis')\n",
    "    plt.title(f'Distribution of {col}')\n",
    "    plt.xlabel(col)\n",
    "    plt.ylabel('Count')\n",
    "    plt.xticks(rotation=45)\n",
    "    plt.tight_layout()\n",
    "    plt.savefig(f\"plots/bar_{col.lower()}.png\", dpi=300)\n",
    "    plt.close()\n"
   ]
  },
  {
   "cell_type": "markdown",
   "id": "2f61e49f",
   "metadata": {},
   "source": [
    "Bivariate/ Multivariate Analysis"
   ]
  },
  {
   "cell_type": "markdown",
   "id": "fe4214d8",
   "metadata": {},
   "source": [
    "Group Data by Month & ZipCode"
   ]
  },
  {
   "cell_type": "code",
   "execution_count": null,
   "id": "9eeed3b0",
   "metadata": {},
   "outputs": [],
   "source": [
    "import pandas as pd\n",
    "import seaborn as sns\n",
    "import matplotlib.pyplot as plt\n",
    "\n",
    "# Load the dataset\n",
    "df = pd.read_csv(r\"C:\\10 Kifia Tasks\\Week-3\\Insurance-Risk-Analytics\\Data\\Data_insurance.txt\", delimiter='|')\n",
    "df = df.sample(n=2000, random_state=42)\n",
    "\n",
    " # Replace with actual path\n",
    "df['TransactionMonth'] = pd.to_datetime(df['TransactionMonth'])\n",
    "\n",
    "# Group and compute monthly changes\n",
    "monthly = df.groupby(['PostalCode', 'TransactionMonth'])[['TotalPremium', 'TotalClaims']].sum().reset_index()\n",
    "monthly.sort_values(['PostalCode', 'TransactionMonth'], inplace=True)\n",
    "monthly[['PremiumDelta', 'ClaimsDelta']] = monthly.groupby('PostalCode')[['TotalPremium', 'TotalClaims']].diff()\n",
    "monthly_clean = monthly.dropna(subset=['PremiumDelta', 'ClaimsDelta'])\n",
    "\n",
    "# Compute and visualize correlation\n",
    "correlation_matrix = monthly_clean[['PremiumDelta', 'ClaimsDelta']].corr()\n",
    "plt.figure(figsize=(6,4))\n",
    "sns.heatmap(correlation_matrix, annot=True, cmap='coolwarm', fmt=\".2f\")\n",
    "plt.title('Correlation Matrix: ΔPremium vs ΔClaims')\n",
    "plt.tight_layout()\n",
    "plt.savefig(\"plots/correlation_heatmap.png\", dpi=300)\n"
   ]
  },
  {
   "cell_type": "markdown",
   "id": "116b7690",
   "metadata": {},
   "source": [
    "Scatterplot Visualizations"
   ]
  },
  {
   "cell_type": "code",
   "execution_count": null,
   "id": "e87d4313",
   "metadata": {},
   "outputs": [],
   "source": [
    "# Color-coded scatterplot\n",
    "plt.figure(figsize=(10, 6))\n",
    "sns.scatterplot(\n",
    "    data=monthly_clean,\n",
    "    x='PremiumDelta',\n",
    "    y='ClaimsDelta',\n",
    "    hue='PostalCode',\n",
    "    alpha=0.6,\n",
    "    palette='tab20'\n",
    ")\n",
    "plt.title('Monthly ΔPremium vs ΔClaims Colored by ZipCode')\n",
    "plt.xlabel('Premium Change')\n",
    "plt.ylabel('Claims Change')\n",
    "plt.legend(title='ZipCode', bbox_to_anchor=(1.05, 1), loc='upper left')\n",
    "plt.tight_layout()\n",
    "plt.savefig(\"plots/monthly_delta_scatter_zipcode.png\")\n",
    "plt.close()\n"
   ]
  },
  {
   "cell_type": "markdown",
   "id": "636f3c10",
   "metadata": {},
   "source": [
    "Data comparison over Geography"
   ]
  },
  {
   "cell_type": "code",
   "execution_count": 46,
   "id": "77b22909",
   "metadata": {},
   "outputs": [],
   "source": [
    "import pandas as pd\n",
    "import seaborn as sns\n",
    "import matplotlib.pyplot as plt\n",
    "import os\n",
    "\n",
    "# 🔹 1. Average Monthly Premium by Province\n",
    "premium_trend = df.groupby(['Province', 'TransactionMonth'])['TotalPremium'].mean().reset_index()\n",
    "\n",
    "plt.figure(figsize=(10, 6))\n",
    "sns.lineplot(data=premium_trend, x='TransactionMonth', y='TotalPremium', hue='Province', marker='o')\n",
    "plt.title('Average Monthly Premium by Province')\n",
    "plt.xlabel('Month')\n",
    "plt.ylabel('Average Premium')\n",
    "plt.tight_layout()\n",
    "plt.savefig('plots/trend_avg_premium_province.png')\n",
    "plt.close()\n",
    "\n",
    "# 🔹 2. CoverType Distribution by Province\n",
    "cover_counts = df.groupby(['Province', 'CoverType']).size().reset_index(name='Count')\n",
    "\n",
    "plt.figure(figsize=(12, 6))\n",
    "sns.barplot(data=cover_counts, x='Province', y='Count', hue='CoverType')\n",
    "plt.title('CoverType Distribution Across Provinces')\n",
    "plt.xlabel('Province')\n",
    "plt.ylabel('Number of Policies')\n",
    "plt.xticks(rotation=45)\n",
    "plt.tight_layout()\n",
    "plt.savefig('plots/covertype_distribution_by_province.png')\n",
    "plt.close()\n",
    "\n",
    "# 🔹 3. Top Auto Makes by Province (Grouped Bar Plot)\n",
    "make_counts = df.groupby(['Province', 'make']).size().reset_index(name='Count')\n",
    "top_makes = make_counts.groupby('make')['Count'].sum().nlargest(5).index.tolist()\n",
    "filtered_make = make_counts[make_counts['make'].isin(top_makes)]\n",
    "\n",
    "plt.figure(figsize=(12, 6))\n",
    "sns.barplot(data=filtered_make, x='Province', y='Count', hue='make')\n",
    "plt.title('Top Auto Makes by Province')\n",
    "plt.xlabel('Province')\n",
    "plt.ylabel('Vehicle Frequency')\n",
    "plt.xticks(rotation=45)\n",
    "plt.tight_layout()\n",
    "plt.savefig('plots/top_auto_make_by_province.png')\n",
    "plt.close()\n"
   ]
  },
  {
   "cell_type": "markdown",
   "id": "7ddf880f",
   "metadata": {},
   "source": [
    "Outlier Detection"
   ]
  },
  {
   "cell_type": "code",
   "execution_count": 47,
   "id": "c743d950",
   "metadata": {},
   "outputs": [],
   "source": [
    "import seaborn as sns\n",
    "import matplotlib.pyplot as plt\n",
    "import os\n",
    "\n",
    "\n",
    "for col in numeric_cols:\n",
    "    plt.figure(figsize=(8, 5))\n",
    "    sns.boxplot(x=df[col])\n",
    "    plt.title(f'Box Plot for {col}')\n",
    "    plt.xlabel(col)\n",
    "    plt.tight_layout()\n",
    "    plt.savefig(f'plots/boxplot_{col}.png')\n",
    "    plt.close()\n"
   ]
  },
  {
   "cell_type": "markdown",
   "id": "8da84cc4",
   "metadata": {},
   "source": [
    "Visualizations"
   ]
  },
  {
   "cell_type": "markdown",
   "id": "a92aabab",
   "metadata": {},
   "source": [
    "Risk Heatmap: Loss Ratio by Province and Vehicle Type"
   ]
  },
  {
   "cell_type": "code",
   "execution_count": 48,
   "id": "ebbd8bbe",
   "metadata": {},
   "outputs": [],
   "source": [
    "import seaborn as sns\n",
    "import matplotlib.pyplot as plt\n",
    "import pandas as pd\n",
    "import os\n",
    "\n",
    "# Compute loss ratio\n",
    "loss_df = df.groupby(['Province', 'VehicleType'])[['TotalClaims', 'TotalPremium']].sum().reset_index()\n",
    "loss_df['LossRatio'] = loss_df['TotalClaims'] / loss_df['TotalPremium']\n",
    "\n",
    "# Pivot for heatmap\n",
    "loss_pivot = loss_df.pivot(index='Province', columns='VehicleType', values='LossRatio')\n",
    "\n",
    "plt.figure(figsize=(12, 6))\n",
    "sns.heatmap(loss_pivot, annot=True, cmap='YlOrRd', fmt=\".2f\")\n",
    "plt.title('Loss Ratio Heatmap: Province vs Vehicle Type')\n",
    "plt.xlabel('Vehicle Type')\n",
    "plt.ylabel('Province')\n",
    "plt.tight_layout()\n",
    "plt.savefig(\"plots/loss_ratio_heatmap.png\")\n",
    "plt.close()\n"
   ]
  },
  {
   "cell_type": "markdown",
   "id": "c00b1922",
   "metadata": {},
   "source": [
    "Vehicle Make vs Claims: Bubble Plot"
   ]
  },
  {
   "cell_type": "code",
   "execution_count": 51,
   "id": "1b6d8ca6",
   "metadata": {},
   "outputs": [],
   "source": [
    "# Aggregate claim metrics by make\n",
    "claims_by_make = df.groupby('make').agg(\n",
    "    TotalClaims=('TotalClaims', 'sum'),\n",
    "    NumPolicies=('PolicyID', 'nunique')\n",
    ").reset_index()\n",
    "\n",
    "# Calculate average claim per policy\n",
    "claims_by_make['AvgClaimPerPolicy'] = claims_by_make['TotalClaims'] / claims_by_make['NumPolicies']\n",
    "top_makes = claims_by_make.nlargest(10, 'TotalClaims')\n",
    "\n",
    "plt.figure(figsize=(10, 6))\n",
    "sns.scatterplot(\n",
    "    data=top_makes,\n",
    "    x='NumPolicies',\n",
    "    y='AvgClaimPerPolicy',\n",
    "    size='TotalClaims',\n",
    "    hue='make',\n",
    "    sizes=(100, 1000),\n",
    "    legend=False,\n",
    "    alpha=0.7\n",
    ")\n",
    "plt.title('Claims vs Policy Volume by Vehicle Make')\n",
    "plt.xlabel('Number of Policies')\n",
    "plt.ylabel('Average Claim per Policy')\n",
    "plt.tight_layout()\n",
    "plt.savefig('plots/bubble_claims_by_make.png')\n",
    "plt.close()\n"
   ]
  },
  {
   "cell_type": "markdown",
   "id": "734e5fb0",
   "metadata": {},
   "source": [
    "Province-Based CoverType Distribution"
   ]
  },
  {
   "cell_type": "code",
   "execution_count": 52,
   "id": "4f52f748",
   "metadata": {},
   "outputs": [],
   "source": [
    "cover_counts = df.groupby(['Province', 'CoverType']).size().reset_index(name='Count')\n",
    "\n",
    "plt.figure(figsize=(12, 6))\n",
    "sns.barplot(data=cover_counts, x='Province', y='Count', hue='CoverType')\n",
    "plt.title('CoverType Preferences Across Provinces')\n",
    "plt.xlabel('Province')\n",
    "plt.ylabel('Number of Policies')\n",
    "plt.xticks(rotation=45)\n",
    "plt.tight_layout()\n",
    "plt.savefig('plots/viz2_covertype_distribution_province.png')\n",
    "plt.close()\n"
   ]
  }
 ],
 "metadata": {
  "kernelspec": {
   "display_name": "Python 3",
   "language": "python",
   "name": "python3"
  },
  "language_info": {
   "codemirror_mode": {
    "name": "ipython",
    "version": 3
   },
   "file_extension": ".py",
   "mimetype": "text/x-python",
   "name": "python",
   "nbconvert_exporter": "python",
   "pygments_lexer": "ipython3",
   "version": "3.12.5"
  }
 },
 "nbformat": 4,
 "nbformat_minor": 5
}
