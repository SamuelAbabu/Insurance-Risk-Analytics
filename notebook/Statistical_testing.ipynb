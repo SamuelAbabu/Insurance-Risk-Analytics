{
 "cells": [
  {
   "cell_type": "markdown",
   "id": "61598d4b",
   "metadata": {},
   "source": [
    "Load the dataset"
   ]
  },
  {
   "cell_type": "code",
   "execution_count": 5,
   "id": "dce35f9c",
   "metadata": {},
   "outputs": [
    {
     "name": "stderr",
     "output_type": "stream",
     "text": [
      "C:\\Users\\samuel\\AppData\\Local\\Temp\\ipykernel_19120\\673940959.py:3: DtypeWarning: Columns (32,37) have mixed types. Specify dtype option on import or set low_memory=False.\n",
      "  df = pd.read_csv(r'C:\\10 Kifia Tasks\\Week-3\\Insurance-Risk-Analytics\\notebook\\data\\Data_insurance.txt', sep='|')\n"
     ]
    }
   ],
   "source": [
    "import pandas as pd\n",
    "\n",
    "df = pd.read_csv(r'C:\\10 Kifia Tasks\\Week-3\\Insurance-Risk-Analytics\\notebook\\data\\Data_insurance.txt', sep='|')\n"
   ]
  },
  {
   "cell_type": "markdown",
   "id": "39722425",
   "metadata": {},
   "source": [
    "Add Risk Metrics"
   ]
  },
  {
   "cell_type": "code",
   "execution_count": 6,
   "id": "6e8ef1b5",
   "metadata": {},
   "outputs": [],
   "source": [
    "# Claim Frequency: 1 if claim occurred, 0 otherwise\n",
    "df['HasClaim'] = df['TotalClaims'] > 0\n",
    "df['ClaimFrequency'] = df['HasClaim'].astype(int)\n",
    "\n",
    "# Claim Severity: average claim amount (only for policies with claims)\n",
    "df['ClaimSeverity'] = df['TotalClaims'] / df['ClaimFrequency']\n",
    "df['ClaimSeverity'] = df['ClaimSeverity'].replace([float('inf'), float('nan')], 0)\n",
    "\n",
    "# Margin: profitability\n",
    "df['Margin'] = df['TotalPremium'] - df['TotalClaims']\n"
   ]
  },
  {
   "cell_type": "markdown",
   "id": "51cd9a0f",
   "metadata": {},
   "source": [
    "Save and Version the Updated Data"
   ]
  },
  {
   "cell_type": "code",
   "execution_count": 7,
   "id": "b1f0bd71",
   "metadata": {},
   "outputs": [],
   "source": [
    "df.to_csv('data/updated_data.csv', index=False)\n"
   ]
  },
  {
   "cell_type": "code",
   "execution_count": 8,
   "id": "073fb84b",
   "metadata": {},
   "outputs": [
    {
     "name": "stdout",
     "output_type": "stream",
     "text": [
      "\n",
      "To track the changes with git, run:\n",
      "\n",
      "\tgit add 'data\\.gitignore' 'data\\updated_data.csv.dvc'\n",
      "\n",
      "To enable auto staging, run:\n",
      "\n",
      "\tdvc config core.autostage true\n"
     ]
    },
    {
     "name": "stderr",
     "output_type": "stream",
     "text": [
      "⠋ Checking graph\n",
      "\n"
     ]
    },
    {
     "name": "stdout",
     "output_type": "stream",
     "text": [
      "[task-3 3eb0eff] feat: added claim frequency, severity, and margin metrics\n",
      " 1 file changed, 5 insertions(+)\n",
      " create mode 100644 notebook/data/updated_data.csv.dvc\n"
     ]
    }
   ],
   "source": [
    "!dvc add data/updated_data.csv\n",
    "!git add data/updated_data.csv.dvc\n",
    "!git commit -m \"feat: added claim frequency, severity, and margin metrics\"\n"
   ]
  },
  {
   "cell_type": "markdown",
   "id": "c24d2ca2",
   "metadata": {},
   "source": [
    "Data Segmentation for Hypothesis 1"
   ]
  },
  {
   "cell_type": "markdown",
   "id": "d4f184a4",
   "metadata": {},
   "source": [
    "Filter by Province"
   ]
  },
  {
   "cell_type": "code",
   "execution_count": 11,
   "id": "e2c1125b",
   "metadata": {},
   "outputs": [],
   "source": [
    "df_wc = df[df['Province'] == 'Western Cape']\n",
    "df_gt = df[df['Province'] == 'Gauteng']\n"
   ]
  },
  {
   "cell_type": "markdown",
   "id": "048a7f5b",
   "metadata": {},
   "source": [
    "Stratified Sampling"
   ]
  },
  {
   "cell_type": "code",
   "execution_count": 12,
   "id": "796847ca",
   "metadata": {},
   "outputs": [
    {
     "name": "stderr",
     "output_type": "stream",
     "text": [
      "C:\\Users\\samuel\\AppData\\Local\\Temp\\ipykernel_19120\\1497533518.py:5: DeprecationWarning: DataFrameGroupBy.apply operated on the grouping columns. This behavior is deprecated, and in a future version of pandas the grouping columns will be excluded from the operation. Either pass `include_groups=False` to exclude the groupings or explicitly select the grouping columns after groupby to silence this warning.\n",
      "  wc_sample = df_wc.groupby('VehicleType').apply(lambda x: x.sample(n=sample_size, random_state=42)).reset_index(drop=True)\n",
      "C:\\Users\\samuel\\AppData\\Local\\Temp\\ipykernel_19120\\1497533518.py:6: DeprecationWarning: DataFrameGroupBy.apply operated on the grouping columns. This behavior is deprecated, and in a future version of pandas the grouping columns will be excluded from the operation. Either pass `include_groups=False` to exclude the groupings or explicitly select the grouping columns after groupby to silence this warning.\n",
      "  gt_sample = df_gt.groupby('VehicleType').apply(lambda x: x.sample(n=sample_size, random_state=42)).reset_index(drop=True)\n"
     ]
    }
   ],
   "source": [
    "# Define sample size per vehicle type (adjust as needed)\n",
    "sample_size = df_wc['VehicleType'].value_counts().min()\n",
    "\n",
    "# Sample from each vehicle type group\n",
    "wc_sample = df_wc.groupby('VehicleType').apply(lambda x: x.sample(n=sample_size, random_state=42)).reset_index(drop=True)\n",
    "gt_sample = df_gt.groupby('VehicleType').apply(lambda x: x.sample(n=sample_size, random_state=42)).reset_index(drop=True)\n"
   ]
  },
  {
   "cell_type": "markdown",
   "id": "77fed7a0",
   "metadata": {},
   "source": [
    "Combine and Save"
   ]
  },
  {
   "cell_type": "code",
   "execution_count": 13,
   "id": "1a2b1425",
   "metadata": {},
   "outputs": [],
   "source": [
    "balanced_df = pd.concat([wc_sample, gt_sample])\n",
    "balanced_df.to_csv('data/balanced_province_sample.csv', index=False)\n"
   ]
  },
  {
   "cell_type": "markdown",
   "id": "4e762445",
   "metadata": {},
   "source": [
    "Track with DVC and Git"
   ]
  },
  {
   "cell_type": "code",
   "execution_count": 14,
   "id": "6860cc18",
   "metadata": {},
   "outputs": [
    {
     "name": "stdout",
     "output_type": "stream",
     "text": [
      "\n",
      "To track the changes with git, run:\n",
      "\n",
      "\tgit add 'data\\balanced_province_sample.csv.dvc' 'data\\.gitignore'\n"
     ]
    },
    {
     "name": "stderr",
     "output_type": "stream",
     "text": [
      "⠋ Checking graph\n",
      "\n"
     ]
    },
    {
     "name": "stdout",
     "output_type": "stream",
     "text": [
      "\n",
      "To enable auto staging, run:\n",
      "\n",
      "\tdvc config core.autostage true\n",
      "[task-3 2575516] feat: created stratified sample by VehicleType for province-based hypothesis testing\n",
      " 1 file changed, 5 insertions(+)\n",
      " create mode 100644 notebook/data/balanced_province_sample.csv.dvc\n"
     ]
    }
   ],
   "source": [
    "!dvc add data/balanced_province_sample.csv\n",
    "!git add data/balanced_province_sample.csv.dvc\n",
    "!git commit -m \"feat: created stratified sample by VehicleType for province-based hypothesis testing\"\n"
   ]
  },
  {
   "cell_type": "markdown",
   "id": "590ef8ff",
   "metadata": {},
   "source": [
    "Verify Balance"
   ]
  },
  {
   "cell_type": "code",
   "execution_count": 15,
   "id": "43a88258",
   "metadata": {},
   "outputs": [
    {
     "data": {
      "text/html": [
       "<div>\n",
       "<style scoped>\n",
       "    .dataframe tbody tr th:only-of-type {\n",
       "        vertical-align: middle;\n",
       "    }\n",
       "\n",
       "    .dataframe tbody tr th {\n",
       "        vertical-align: top;\n",
       "    }\n",
       "\n",
       "    .dataframe thead th {\n",
       "        text-align: right;\n",
       "    }\n",
       "</style>\n",
       "<table border=\"1\" class=\"dataframe\">\n",
       "  <thead>\n",
       "    <tr style=\"text-align: right;\">\n",
       "      <th>VehicleType</th>\n",
       "      <th>Bus</th>\n",
       "      <th>Heavy Commercial</th>\n",
       "      <th>Light Commercial</th>\n",
       "      <th>Medium Commercial</th>\n",
       "      <th>Passenger Vehicle</th>\n",
       "    </tr>\n",
       "    <tr>\n",
       "      <th>Province</th>\n",
       "      <th></th>\n",
       "      <th></th>\n",
       "      <th></th>\n",
       "      <th></th>\n",
       "      <th></th>\n",
       "    </tr>\n",
       "  </thead>\n",
       "  <tbody>\n",
       "    <tr>\n",
       "      <th>Gauteng</th>\n",
       "      <td>51</td>\n",
       "      <td>51</td>\n",
       "      <td>51</td>\n",
       "      <td>51</td>\n",
       "      <td>51</td>\n",
       "    </tr>\n",
       "    <tr>\n",
       "      <th>Western Cape</th>\n",
       "      <td>51</td>\n",
       "      <td>51</td>\n",
       "      <td>51</td>\n",
       "      <td>51</td>\n",
       "      <td>51</td>\n",
       "    </tr>\n",
       "  </tbody>\n",
       "</table>\n",
       "</div>"
      ],
      "text/plain": [
       "VehicleType   Bus  Heavy Commercial  Light Commercial  Medium Commercial  \\\n",
       "Province                                                                   \n",
       "Gauteng        51                51                51                 51   \n",
       "Western Cape   51                51                51                 51   \n",
       "\n",
       "VehicleType   Passenger Vehicle  \n",
       "Province                         \n",
       "Gauteng                      51  \n",
       "Western Cape                 51  "
      ]
     },
     "execution_count": 15,
     "metadata": {},
     "output_type": "execute_result"
    }
   ],
   "source": [
    "pd.crosstab(balanced_df['Province'], balanced_df['VehicleType'])\n"
   ]
  },
  {
   "cell_type": "markdown",
   "id": "9f550640",
   "metadata": {},
   "source": [
    "Chi-Squared Test for Claim Frequency"
   ]
  },
  {
   "cell_type": "code",
   "execution_count": 16,
   "id": "7310490d",
   "metadata": {},
   "outputs": [
    {
     "name": "stdout",
     "output_type": "stream",
     "text": [
      "Chi-squared test for Claim Frequency: p-value = 1.0000\n"
     ]
    }
   ],
   "source": [
    "from scipy.stats import chi2_contingency\n",
    "\n",
    "contingency = pd.crosstab(balanced_df['Province'], balanced_df['HasClaim'])\n",
    "chi2, p_freq, _, _ = chi2_contingency(contingency)\n",
    "\n",
    "print(f\"Chi-squared test for Claim Frequency: p-value = {p_freq:.4f}\")\n"
   ]
  },
  {
   "cell_type": "markdown",
   "id": "671c43da",
   "metadata": {},
   "source": [
    "Interpretation\n",
    "\n",
    "There is no statistically significant difference in claim frequency between Gauteng and Western Cape, based on the stratified sample. This suggests that province alone does not influence the likelihood of a claim."
   ]
  },
  {
   "cell_type": "markdown",
   "id": "374d856d",
   "metadata": {},
   "source": [
    "T-Test for Claim Severity"
   ]
  },
  {
   "cell_type": "code",
   "execution_count": 21,
   "id": "69e06217",
   "metadata": {},
   "outputs": [
    {
     "name": "stdout",
     "output_type": "stream",
     "text": [
      "T-test for Claim Severity: p-value = nan\n"
     ]
    }
   ],
   "source": [
    "from scipy.stats import ttest_ind\n",
    "\n",
    "claims_wc = balanced_df[(balanced_df['Province'] == 'Western Cape') & (balanced_df['HasClaim'])]\n",
    "claims_gt = balanced_df[(balanced_df['Province'] == 'Gauteng') & (balanced_df['HasClaim'])]\n",
    "\n",
    "t_stat_sev, p_sev = ttest_ind(claims_wc['ClaimSeverity'], claims_gt['ClaimSeverity'], equal_var=False)\n",
    "\n",
    "print(f\"T-test for Claim Severity: p-value = {p_sev:.4f}\")\n"
   ]
  },
  {
   "cell_type": "markdown",
   "id": "b39b348c",
   "metadata": {},
   "source": [
    "T-Test for Margin\n"
   ]
  },
  {
   "cell_type": "code",
   "execution_count": 18,
   "id": "d6aa66d3",
   "metadata": {},
   "outputs": [
    {
     "name": "stdout",
     "output_type": "stream",
     "text": [
      "T-test for Margin: p-value = 0.7939\n"
     ]
    }
   ],
   "source": [
    "margin_wc = balanced_df[balanced_df['Province'] == 'Western Cape']['Margin']\n",
    "margin_gt = balanced_df[balanced_df['Province'] == 'Gauteng']['Margin']\n",
    "\n",
    "t_stat_margin, p_margin = ttest_ind(margin_wc, margin_gt, equal_var=False)\n",
    "\n",
    "print(f\"T-test for Margin: p-value = {p_margin:.4f}\")\n"
   ]
  },
  {
   "cell_type": "markdown",
   "id": "5fbc6ecc",
   "metadata": {},
   "source": [
    "Interpretation\n",
    "\n",
    "There is no statistically significant difference in profitability (Margin) between Gauteng and Western Cape. This suggests that regional segmentation based on margin alone is not justified for these two provinces."
   ]
  },
  {
   "cell_type": "markdown",
   "id": "395340a0",
   "metadata": {},
   "source": [
    "Hypothesis 2: Risk Differences Between Zip Codes"
   ]
  },
  {
   "cell_type": "markdown",
   "id": "31ed988e",
   "metadata": {},
   "source": [
    "Step 1: Select Two Zip Codes"
   ]
  },
  {
   "cell_type": "code",
   "execution_count": 22,
   "id": "efa33ee9",
   "metadata": {},
   "outputs": [
    {
     "data": {
      "text/plain": [
       "PostalCode\n",
       "2000    486\n",
       "122     210\n",
       "299      67\n",
       "8000     51\n",
       "7784     50\n",
       "470      44\n",
       "1863     44\n",
       "400      34\n",
       "458      32\n",
       "2196     32\n",
       "Name: HasClaim, dtype: int64"
      ]
     },
     "execution_count": 22,
     "metadata": {},
     "output_type": "execute_result"
    }
   ],
   "source": [
    "df.groupby('PostalCode')['HasClaim'].sum().sort_values(ascending=False).head(10)\n"
   ]
  },
  {
   "cell_type": "markdown",
   "id": "74d97887",
   "metadata": {},
   "source": [
    "Stratified Sampling by VehicleType"
   ]
  },
  {
   "cell_type": "code",
   "execution_count": 23,
   "id": "20e9600c",
   "metadata": {},
   "outputs": [
    {
     "name": "stderr",
     "output_type": "stream",
     "text": [
      "C:\\Users\\samuel\\AppData\\Local\\Temp\\ipykernel_19120\\625838004.py:6: DeprecationWarning: DataFrameGroupBy.apply operated on the grouping columns. This behavior is deprecated, and in a future version of pandas the grouping columns will be excluded from the operation. Either pass `include_groups=False` to exclude the groupings or explicitly select the grouping columns after groupby to silence this warning.\n",
      "  zip_a_sample = zip_a.groupby('VehicleType').apply(lambda x: x.sample(n=sample_size, random_state=42)).reset_index(drop=True)\n",
      "C:\\Users\\samuel\\AppData\\Local\\Temp\\ipykernel_19120\\625838004.py:7: DeprecationWarning: DataFrameGroupBy.apply operated on the grouping columns. This behavior is deprecated, and in a future version of pandas the grouping columns will be excluded from the operation. Either pass `include_groups=False` to exclude the groupings or explicitly select the grouping columns after groupby to silence this warning.\n",
      "  zip_b_sample = zip_b.groupby('VehicleType').apply(lambda x: x.sample(n=sample_size, random_state=42)).reset_index(drop=True)\n"
     ]
    }
   ],
   "source": [
    "zip_a = df[df['PostalCode'] == 2000]\n",
    "zip_b = df[df['PostalCode'] == 122]\n",
    "\n",
    "sample_size = min(zip_a['VehicleType'].value_counts().min(), zip_b['VehicleType'].value_counts().min())\n",
    "\n",
    "zip_a_sample = zip_a.groupby('VehicleType').apply(lambda x: x.sample(n=sample_size, random_state=42)).reset_index(drop=True)\n",
    "zip_b_sample = zip_b.groupby('VehicleType').apply(lambda x: x.sample(n=sample_size, random_state=42)).reset_index(drop=True)\n",
    "\n",
    "balanced_zip_df = pd.concat([zip_a_sample, zip_b_sample])\n"
   ]
  },
  {
   "cell_type": "markdown",
   "id": "e54b3829",
   "metadata": {},
   "source": [
    "Save and Track"
   ]
  },
  {
   "cell_type": "code",
   "execution_count": 24,
   "id": "94cdc12f",
   "metadata": {},
   "outputs": [
    {
     "name": "stdout",
     "output_type": "stream",
     "text": [
      "\n",
      "To track the changes with git, run:\n",
      "\n",
      "\tgit add 'data\\balanced_zip_sample.csv.dvc' 'data\\.gitignore'\n",
      "\n",
      "To enable auto staging, run:\n",
      "\n",
      "\tdvc config core.autostage true\n"
     ]
    },
    {
     "name": "stderr",
     "output_type": "stream",
     "text": [
      "⠋ Checking graph\n",
      "\n"
     ]
    },
    {
     "name": "stdout",
     "output_type": "stream",
     "text": [
      "[task-3 f16aabc] feat: stratified sample for zip code-based hypothesis testing\n",
      " 1 file changed, 5 insertions(+)\n",
      " create mode 100644 notebook/data/balanced_zip_sample.csv.dvc\n"
     ]
    }
   ],
   "source": [
    "balanced_zip_df.to_csv('data/balanced_zip_sample.csv', index=False)\n",
    "\n",
    "# DVC and Git\n",
    "!dvc add data/balanced_zip_sample.csv\n",
    "!git add data/balanced_zip_sample.csv.dvc\n",
    "!git commit -m \"feat: stratified sample for zip code-based hypothesis testing\"\n"
   ]
  },
  {
   "cell_type": "markdown",
   "id": "ca807e9f",
   "metadata": {},
   "source": [
    "Chi-Squared Test for Claim Frequency"
   ]
  },
  {
   "cell_type": "code",
   "execution_count": 25,
   "id": "cd3db461",
   "metadata": {},
   "outputs": [
    {
     "name": "stdout",
     "output_type": "stream",
     "text": [
      "Chi-squared test for Claim Frequency (Zip): p-value = 0.4103\n"
     ]
    }
   ],
   "source": [
    "from scipy.stats import chi2_contingency\n",
    "\n",
    "contingency = pd.crosstab(balanced_zip_df['PostalCode'], balanced_zip_df['HasClaim'])\n",
    "chi2, p_freq_zip, _, _ = chi2_contingency(contingency)\n",
    "\n",
    "print(f\"Chi-squared test for Claim Frequency (Zip): p-value = {p_freq_zip:.4f}\")\n"
   ]
  },
  {
   "cell_type": "markdown",
   "id": "2d5072e5",
   "metadata": {},
   "source": [
    "Use Mann-Whitney U Test for Claim Severity"
   ]
  },
  {
   "cell_type": "code",
   "execution_count": 31,
   "id": "51a7708b",
   "metadata": {},
   "outputs": [
    {
     "name": "stdout",
     "output_type": "stream",
     "text": [
      "Mann-Whitney U test for Claim Severity (Zip): p-value = 1.0000\n"
     ]
    }
   ],
   "source": [
    "from scipy.stats import mannwhitneyu\n",
    "\n",
    "u_stat, p_mwu = mannwhitneyu(claims_zip_a_clean, claims_zip_b_clean, alternative='two-sided')\n",
    "print(f\"Mann-Whitney U test for Claim Severity (Zip): p-value = {p_mwu:.4f}\")\n"
   ]
  },
  {
   "cell_type": "markdown",
   "id": "bf4d5285",
   "metadata": {},
   "source": [
    "Hypothesis 3: Margin Differences Between Zip Codes"
   ]
  },
  {
   "cell_type": "markdown",
   "id": "6eb3ee2c",
   "metadata": {},
   "source": [
    "T-Test for Margin"
   ]
  },
  {
   "cell_type": "code",
   "execution_count": 32,
   "id": "a2e33824",
   "metadata": {},
   "outputs": [
    {
     "name": "stdout",
     "output_type": "stream",
     "text": [
      "T-test for Margin (Zip): p-value = 0.2963\n"
     ]
    }
   ],
   "source": [
    "margin_zip_a = balanced_zip_df[balanced_zip_df['PostalCode'] == 2000]['Margin']\n",
    "margin_zip_b = balanced_zip_df[balanced_zip_df['PostalCode'] == 122]['Margin']\n",
    "\n",
    "t_stat_margin_zip, p_margin_zip = ttest_ind(margin_zip_a, margin_zip_b, equal_var=False)\n",
    "\n",
    "print(f\"T-test for Margin (Zip): p-value = {p_margin_zip:.4f}\")\n"
   ]
  },
  {
   "cell_type": "markdown",
   "id": "0b7bd995",
   "metadata": {},
   "source": [
    "Hypothesis 4: Gender-Based Risk Differences"
   ]
  },
  {
   "cell_type": "markdown",
   "id": "8358d8a6",
   "metadata": {},
   "source": [
    "Segment the Data"
   ]
  },
  {
   "cell_type": "code",
   "execution_count": 33,
   "id": "c4b3c528",
   "metadata": {},
   "outputs": [],
   "source": [
    "group_male = df[df['Gender'] == 'Male']\n",
    "group_female = df[df['Gender'] == 'Female']\n"
   ]
  },
  {
   "cell_type": "code",
   "execution_count": 55,
   "id": "37c07b1f",
   "metadata": {},
   "outputs": [
    {
     "name": "stderr",
     "output_type": "stream",
     "text": [
      "C:\\Users\\samuel\\AppData\\Local\\Temp\\ipykernel_19120\\1532528992.py:6: DeprecationWarning: DataFrameGroupBy.apply operated on the grouping columns. This behavior is deprecated, and in a future version of pandas the grouping columns will be excluded from the operation. Either pass `include_groups=False` to exclude the groupings or explicitly select the grouping columns after groupby to silence this warning.\n",
      "  male_sample = df[df['Gender'] == 'Male'].groupby('VehicleType').apply(lambda x: x.sample(n=sample_size, random_state=42)).reset_index(drop=True)\n",
      "C:\\Users\\samuel\\AppData\\Local\\Temp\\ipykernel_19120\\1532528992.py:7: DeprecationWarning: DataFrameGroupBy.apply operated on the grouping columns. This behavior is deprecated, and in a future version of pandas the grouping columns will be excluded from the operation. Either pass `include_groups=False` to exclude the groupings or explicitly select the grouping columns after groupby to silence this warning.\n",
      "  female_sample = df[df['Gender'] == 'Female'].groupby('VehicleType').apply(lambda x: x.sample(n=sample_size, random_state=42)).reset_index(drop=True)\n"
     ]
    }
   ],
   "source": [
    "# Determine the minimum sample size per VehicleType for both genders, capped at 200\n",
    "sample_size = min(df[df['Gender'] == 'Male']['VehicleType'].value_counts().min(),\n",
    "    df[df['Gender'] == 'Female']['VehicleType'].value_counts().min()\n",
    ")\n",
    "\n",
    "male_sample = df[df['Gender'] == 'Male'].groupby('VehicleType').apply(lambda x: x.sample(n=sample_size, random_state=42)).reset_index(drop=True)\n",
    "female_sample = df[df['Gender'] == 'Female'].groupby('VehicleType').apply(lambda x: x.sample(n=sample_size, random_state=42)).reset_index(drop=True)\n",
    "\n",
    "balanced_gender_df = pd.concat([male_sample, female_sample])\n"
   ]
  },
  {
   "cell_type": "code",
   "execution_count": 56,
   "id": "b45865d4",
   "metadata": {},
   "outputs": [
    {
     "name": "stdout",
     "output_type": "stream",
     "text": [
      "\n",
      "To track the changes with git, run:\n",
      "\n",
      "\tgit add 'data\\balanced_gender_sample.csv.dvc'\n",
      "\n",
      "To enable auto staging, run:\n",
      "\n",
      "\tdvc config core.autostage true\n"
     ]
    },
    {
     "name": "stderr",
     "output_type": "stream",
     "text": [
      "⠋ Checking graph\n",
      "\n"
     ]
    },
    {
     "name": "stdout",
     "output_type": "stream",
     "text": [
      "On branch task-3\n",
      "Changes not staged for commit:\n",
      "  (use \"git add <file>...\" to update what will be committed)\n",
      "  (use \"git restore <file>...\" to discard changes in working directory)\n",
      "\tmodified:   data/.gitignore\n",
      "\n",
      "Untracked files:\n",
      "  (use \"git add <file>...\" to include in what will be committed)\n",
      "\t../Data/\n",
      "\tStatistical_testing.ipynb\n",
      "\tdvc_local_storage/\n",
      "\n",
      "no changes added to commit (use \"git add\" and/or \"git commit -a\")\n"
     ]
    }
   ],
   "source": [
    "balanced_gender_df.to_csv('data/balanced_gender_sample.csv', index=False)\n",
    "\n",
    "# DVC and Git\n",
    "!dvc add data/balanced_gender_sample.csv\n",
    "!git add data/balanced_gender_sample.csv.dvc\n",
    "!git commit -m \"feat: stratified sample by VehicleType for gender-based hypothesis testing\"\n"
   ]
  },
  {
   "cell_type": "markdown",
   "id": "0ce61a81",
   "metadata": {},
   "source": [
    "Chi-Squared Test for Claim Frequency"
   ]
  },
  {
   "cell_type": "code",
   "execution_count": 57,
   "id": "90f5d9e7",
   "metadata": {},
   "outputs": [
    {
     "name": "stdout",
     "output_type": "stream",
     "text": [
      "Claim Frequency p-value: 1.0000\n"
     ]
    }
   ],
   "source": [
    "from scipy.stats import chi2_contingency\n",
    "\n",
    "contingency = pd.crosstab(balanced_gender_df['Gender'], balanced_gender_df['HasClaim'])\n",
    "chi2, p_freq_gender, _, _ = chi2_contingency(contingency)\n",
    "print(f\"Claim Frequency p-value: {p_freq_gender:.4f}\")\n"
   ]
  },
  {
   "cell_type": "markdown",
   "id": "187c1851",
   "metadata": {},
   "source": [
    "T-Test for Margin"
   ]
  },
  {
   "cell_type": "code",
   "execution_count": 58,
   "id": "f59c1f70",
   "metadata": {},
   "outputs": [
    {
     "name": "stdout",
     "output_type": "stream",
     "text": [
      "Margin p-value: 0.7981\n"
     ]
    }
   ],
   "source": [
    "margin_male = balanced_gender_df[balanced_gender_df['Gender'] == 'Male']['Margin']\n",
    "margin_female = balanced_gender_df[balanced_gender_df['Gender'] == 'Female']['Margin']\n",
    "\n",
    "t_stat_margin_gender, p_margin_gender = ttest_ind(margin_male, margin_female, equal_var=False)\n",
    "print(f\"Margin p-value: {p_margin_gender:.4f}\")\n"
   ]
  },
  {
   "cell_type": "markdown",
   "id": "fdbb72f8",
   "metadata": {},
   "source": [
    "Mann-Whitney U"
   ]
  },
  {
   "cell_type": "code",
   "execution_count": 59,
   "id": "8deb14ad",
   "metadata": {},
   "outputs": [
    {
     "name": "stdout",
     "output_type": "stream",
     "text": [
      "Mann-Whitney U test for Claim Severity (Gender): p-value = 1.0000\n"
     ]
    }
   ],
   "source": [
    "from scipy.stats import mannwhitneyu\n",
    "\n",
    "u_stat, p_mwu_gender = mannwhitneyu(claims_male, claims_female, alternative='two-sided')\n",
    "print(f\"Mann-Whitney U test for Claim Severity (Gender): p-value = {p_mwu_gender:.4f}\")\n"
   ]
  },
  {
   "cell_type": "markdown",
   "id": "b5f28d42",
   "metadata": {},
   "source": [
    "# 📊 Hypothesis Testing Summary – Task 3\n",
    "\n",
    "**Objective**: Evaluate risk and profitability differences across key customer segments to guide AlphaCare’s pricing and marketing strategy.\n",
    "\n",
    "---\n",
    "\n",
    "## ✅ Metrics Used\n",
    "- **Claim Frequency**: % of policies with claims  \n",
    "- **Claim Severity**: Average claim amount (if claimed)  \n",
    "- **Margin**: TotalPremium − TotalClaims\n",
    "\n",
    "---\n",
    "\n",
    "## 🧪 Hypothesis Results\n",
    "\n",
    "| Hypothesis | Segment | Metric | p-value | Decision | Insight |\n",
    "|-----------|---------|--------|---------|----------|--------|\n",
    "| H₀₁ | Province | Margin | 0.7939 | Fail to Reject | No profitability difference |\n",
    "| H₀₂ | Zip Code | Claim Frequency | 0.4103 | Fail to Reject | No risk difference |\n",
    "| H₀₂ | Zip Code | Claim Severity | 1.0000 | Fail to Reject | No cost difference |\n",
    "| H₀₃ | Zip Code | Margin | 0.2963 | Fail to Reject | No margin difference |\n",
    "| H₀₄ | Gender | Claim Severity | NaN | Invalid | Too few claims |\n",
    "\n",
    "---\n",
    "\n",
    "## 💼 Business Recommendations\n",
    "\n",
    "- **No evidence** to support pricing changes based on province, zip code, or gender.\n",
    "- **Claim Severity tests failed** due to low claim counts — future sampling should target higher-density segments.\n",
    "- Focus future segmentation on **vehicle type, plan features, or behavioral data** for stronger predictive signals.\n"
   ]
  }
 ],
 "metadata": {
  "kernelspec": {
   "display_name": "Python 3",
   "language": "python",
   "name": "python3"
  },
  "language_info": {
   "codemirror_mode": {
    "name": "ipython",
    "version": 3
   },
   "file_extension": ".py",
   "mimetype": "text/x-python",
   "name": "python",
   "nbconvert_exporter": "python",
   "pygments_lexer": "ipython3",
   "version": "3.12.5"
  }
 },
 "nbformat": 4,
 "nbformat_minor": 5
}
